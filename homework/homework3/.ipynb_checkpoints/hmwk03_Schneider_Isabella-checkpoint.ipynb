{
 "cells": [
  {
   "cell_type": "markdown",
   "metadata": {},
   "source": [
    "# Homework 3: Random Variables and Their Distributions\n",
    "***\n",
    "\n",
    "**Name**: Isabella Schneider\n",
    "\n",
    "***\n",
    "\n",
    "This assignment is due on Moodle by **5pm on Friday March 2nd**. Your solutions to theoretical questions should be done in Markdown/MathJax directly below the associated question.  Your solutions to computational questions should include any specified Python code and results as well as written commentary on your conclusions.  Remember that you are encouraged to discuss the problems with your instructors and classmates, but **you must write all code and solutions on your own**.  For a refresher on the course **Collaboration Policy** click [here](https://github.com/dblarremore/csci3022/blob/master/resources/syllabus.md#collaboration-policy).  \n",
    "\n",
    "**NOTES**: \n",
    "\n",
    "- Do **NOT** load or use any Python packages that are not available in Anaconda 3.6. \n",
    "- Some problems with code may be autograded.  If we provide a function API **do not** change it.  If we do not provide a function API then you're free to structure your code however you like. \n",
    "- Because you can technically evaluate notebook cells is a non-linear order, it's a good idea to do Cell $\\rightarrow$ Run All as a check before submitting your solutions.  That way if we need to run your code you will know that it will work as expected. \n",
    "- Submit only this Jupyter notebook to Moodle.  Do not compress it using tar, rar, zip, etc. \n",
    "\n",
    "### Work only 4 of the 5 problems below! Your choice."
   ]
  },
  {
   "cell_type": "code",
   "execution_count": 2,
   "metadata": {
    "scrolled": true
   },
   "outputs": [],
   "source": [
    "import pandas as pd\n",
    "import numpy as np\n",
    "import matplotlib.pylab as plt\n",
    "from scipy.special import binom\n",
    "%matplotlib inline"
   ]
  },
  {
   "cell_type": "markdown",
   "metadata": {},
   "source": [
    "### [25 points] Problem 1\n",
    "***\n",
    "\n",
    "Let $X$ be the lifespan (in years) of a BF Otterich Rugged Trail T/A tire under normal driving conditions, and suppose $X$ is described by the following probability density function: \n",
    "\n",
    "$$\n",
    "f(x) = \\left\\{ \n",
    "\\begin{array}{ll}\n",
    "\\dfrac{15}{c x^3} & 1 \\leq x \\leq 15 \\\\\n",
    "0 & \\textrm{otherwise}\n",
    "\\end{array}\n",
    "\\right.\n",
    "$$\n",
    "\n",
    "**Part A**: Determine the value of $c$ such that $f(x)$ is a valid PDF. "
   ]
  },
  {
   "cell_type": "markdown",
   "metadata": {
    "collapsed": true
   },
   "source": [
    "We can find the value of $c$ for which $f(x)$ is a valid PDF by taking the integral from 1 to 15, and setting that integral equal to 1. We know this to be true because if we integrate over the entire \"valid\" space of the function (i.e. where events occur), then we get the CDF, which we know must add up to 1 at the end of the \"valid\" space. So we have:\n",
    "\n",
    "$$\n",
    "\\begin{align}\n",
    "\\frac{15}{c} \\int_{1}^{15} \\frac{1}{x^3} dx &= \\frac{15}{c}\\Big(-\\frac{1}{2x^2}\\Big|_{1}^{15}\\Big) \\\\\n",
    "&= \\frac{15}{c} \\Big(-\\frac{1}{2 \\cdot 15^{2}} + \\frac{1}{2} \\Big) = 1 \\\\\n",
    "\\frac{1}{2} - \\frac{1}{2 \\cdot 15^2} &= \\frac{c}{15} \\\\\n",
    "\\frac{15}{2} - \\frac{1}{30} &= c \\\\\n",
    "c &\\approx 7.4667\n",
    "\\end{align}\n",
    "$$"
   ]
  },
  {
   "cell_type": "markdown",
   "metadata": {},
   "source": [
    "**Part B**: Compute the cumulative distribution function $F(y)$ for $X$. "
   ]
  },
  {
   "cell_type": "markdown",
   "metadata": {},
   "source": [
    "This is the same process as Part A, but now, instead of evaluating over the entire interval, we evaluate from the beginning (1) up until $y$, which is a new arbitrary end for the interval. So we have:\n",
    "\n",
    "$$\n",
    "\\frac{15}{7.4667} \\int_{1}^{y} \\frac{1}{x^3} dx = \\frac{15}{7.4667}\\Big(-\\frac{1}{2x^2}\\Big|_{1}^{y}\\Big) \\\\\n",
    "= \\frac{15}{7.4667} \\Big(\\frac{1}{2} - \\frac{1}{2y^2} \\Big)\n",
    "$$\n",
    "\n",
    "which is the CDF $F(y)$."
   ]
  },
  {
   "cell_type": "markdown",
   "metadata": {},
   "source": [
    "**Part C**: Use the cdf you computed in **Part B** to find the probability that a single tire goes longer than 5 years without failing. "
   ]
  },
  {
   "cell_type": "markdown",
   "metadata": {
    "collapsed": true
   },
   "source": [
    "To find this, we look at the interval from 5 years onwards, which in the example above, only goes until 15. So we could take the integral from 5 to 15, or we could use the CDF computed and plug in the values 5 and 15 in for $y$. Then, we have:\n",
    "\n",
    "$$\n",
    "\\begin{align}\n",
    "P(X \\geq 5) &= F(15)-F(5) \\\\\n",
    "&= \\frac{15}{7.4667} \\Big(\\frac{1}{2} - \\frac{1}{2(15)^2} - \\frac{1}{2} + \\frac{1}{2(5)^2} \\Big) \\\\\n",
    "&\\approx 0.0357\n",
    "\\end{align}\n",
    "$$"
   ]
  },
  {
   "cell_type": "markdown",
   "metadata": {},
   "source": [
    "**Part D**: Use the cdf you computed in **Part B** to determine the number of years within which $62.5\\%$ of all tires will need to be replaced. In other words, determine the 62.5th percentile of the distribution of $X$. "
   ]
  },
  {
   "cell_type": "markdown",
   "metadata": {
    "collapsed": true
   },
   "source": [
    "For this problem, we see for which value of $y$ in $F(y)$ we get 0.625. (We are techincally calculating $F(y) - F(1) = 0.625$, but $F(1) = 0$.) So we have:\n",
    "\n",
    "$$\n",
    "\\begin{align}\n",
    "0.625 &= \\frac{15}{7.4667} \\Big(\\frac{1}{2} - \\frac{1}{2y^2}\\Big) \\\\\n",
    "0.3111 &= \\frac{1}{2} - \\frac{1}{2y^2} \\\\\n",
    "0.1889 &= \\frac{1}{2y^2} \\\\\n",
    "y^2 &= 2.647 \\\\\n",
    "y &\\approx 1.6270\n",
    "\\end{align}\n",
    "$$\n",
    "\n",
    "So it will take a little over one and a half years until $62.5%$ of all tires would need to be replaced."
   ]
  },
  {
   "cell_type": "markdown",
   "metadata": {},
   "source": [
    "**Part E**: What is the probability that all four BF Otterich Rugged Trail T/A tires on a vehicle last longer than 5 years without failing? "
   ]
  },
  {
   "cell_type": "markdown",
   "metadata": {
    "collapsed": true
   },
   "source": [
    "To answer this, we multiply the probability of one tire failing with the probability of another tire failing (since they are independent), and we do this 4 times. We get:\n",
    "\n",
    "$$\n",
    "(0.0357)^4 \\approx 1.6269 \\times 10^{-6}\n",
    "$$"
   ]
  },
  {
   "cell_type": "markdown",
   "metadata": {},
   "source": [
    "### [25 points] Problem 2\n",
    "***\n",
    "\n",
    "You are a data-driven transportation engineer investigating the effect that a particular [vertical lift bridge](https://en.wikipedia.org/wiki/Vertical-lift_bridge) has on city traffic.  Every time a boat passes under the bridge, cars must stop while the bridge is raised to accommodate the height of the boat.  As both boat and car traffic increases, city planners are considering building a new taller bridge that will never impede the flow of traffic. As part of a larger simulation of traffic congestion, you need to decide how to model the arrival of boats at the bridge.  From your Intro to Data Science class you remember that the time _between_ independent arrivals are usually modeled by an Exponential distribution.  Finally, you have access to a report that says on average 10 boats cross under the bridge per day.\n",
    "\n",
    "Answer the following questions about this scenario. **Note** that for **Parts B-D** you should clearly express the computation you're doing with math, but feel free to do any fancy function evaluations with Python. \n",
    "\n",
    "**Part A**:  Assuming the between-boat times do in-fact follow $Exp(10)$, what distribution would you expect the **number** of boats that cross under the bridge on a given day to follow?  What are the parameter(s) of the distribution? "
   ]
  },
  {
   "cell_type": "code",
   "execution_count": null,
   "metadata": {},
   "outputs": [],
   "source": []
  },
  {
   "cell_type": "markdown",
   "metadata": {},
   "source": [
    "**Part B**:  What is the probability that 13 boats cross under the bridge on a particular day?"
   ]
  },
  {
   "cell_type": "code",
   "execution_count": null,
   "metadata": {},
   "outputs": [],
   "source": []
  },
  {
   "cell_type": "markdown",
   "metadata": {},
   "source": [
    "**Part C**:  What is the probability that 8 boats or fewer cross under the bridge on a particular day?"
   ]
  },
  {
   "cell_type": "code",
   "execution_count": null,
   "metadata": {},
   "outputs": [],
   "source": []
  },
  {
   "cell_type": "markdown",
   "metadata": {},
   "source": [
    "**Part D**: What is the probability that between 2 and 4 hours pass between two boat crossings? "
   ]
  },
  {
   "cell_type": "code",
   "execution_count": null,
   "metadata": {},
   "outputs": [],
   "source": []
  },
  {
   "cell_type": "markdown",
   "metadata": {},
   "source": [
    "**Part F**: Write a function boat_count that takes as its sole argument the rate parameter $\\lambda$ with units boats per day. Your function should simulate boat arrivals at the bridge by sampling between-boat times from $Exp(\\lambda)$ via Numpy's [random.exponential](https://docs.scipy.org/doc/numpy-1.13.0/reference/generated/numpy.random.exponential.html) function and return the number of boats that pass under the bridge on a single simulated day. \n",
    "\n",
    "**Note**: Do not change the API for this function. In other words, please keep the name of the function, its input parameter, and its desired output the same. Of course, the inner workings of this function and the actual value that it returns are in your hands!"
   ]
  },
  {
   "cell_type": "code",
   "execution_count": 3,
   "metadata": {},
   "outputs": [],
   "source": [
    "def boat_count(lam):\n",
    "    return 0"
   ]
  },
  {
   "cell_type": "markdown",
   "metadata": {},
   "source": [
    "**Part G**: Write a function boat_count_sim that takes as arguments the rate parameter $\\lambda$ with units boats per day and an integer number of days to simulate. Your function should use the function you wrote in **Part F** to simulate many independent days of boat crossings and estimate the probability that 8 boats or fewer cross under the bridge on a particular day. For $\\lambda = 10$, does your estimate agree with the by-hand computation you did in **Part C**?  \n",
    "\n",
    "**Note**: Do not change the API for this function. "
   ]
  },
  {
   "cell_type": "code",
   "execution_count": 4,
   "metadata": {},
   "outputs": [],
   "source": [
    "def boat_count_sim(lam, num_days=int(1e3)):\n",
    "    return 1.0 "
   ]
  },
  {
   "cell_type": "markdown",
   "metadata": {},
   "source": [
    "**Part H**: Write a function boat_time_sim that takes as arguments the rate parameter $\\lambda$ with units boats per day and an integer number of boat arrivals to simulate. Your function should sample boat arrivals via [np.random.exponential](https://docs.scipy.org/doc/numpy-1.13.0/reference/generated/numpy.random.exponential.html) and estimate the probability that boats arrive between 2 and 4 hours apart.  For $\\lambda = 10$, does your estimate agree with the by-hand computation you did in **Part D**?  \n",
    "\n",
    "**Note**: Do not change the API for this function.  "
   ]
  },
  {
   "cell_type": "code",
   "execution_count": 5,
   "metadata": {},
   "outputs": [],
   "source": [
    "def boat_time_sim(lam, num_boats=int(1e3)): \n",
    "    return 1.0 "
   ]
  },
  {
   "cell_type": "markdown",
   "metadata": {},
   "source": [
    "### [25 points] Problem 3 \n",
    "***\n",
    "\n",
    "Let $X =$ the leading digit of a randomly selected number from a large accounting\n",
    "ledger. For example, if we randomly draw the number \\$20,695, then $X = 2.$\n",
    "People who make up numbers to commit accounting fraud tend to give $X$ a\n",
    "(discrete) uniform distribution, i.e., $P(X = x) = \\frac{1}{9}$, for $x \\in \\{1, ..., 9\\}$. However,\n",
    "there is empirical evidence that suggests that _naturally occurring_ numbers (e.g.,\n",
    "numbers in a non-fraudulent accounting ledgers) have leading digits that do not\n",
    "follow a uniform distribution. Instead, they follow a distribution defined by the following probability mass function:\n",
    "\n",
    "$$\n",
    "f(x) = \\log_{10}\\left( \\frac{x+1}{x} \\right) \\quad \\textrm{for } x = 1, 2, \\ldots, 9\n",
    "$$"
   ]
  },
  {
   "cell_type": "markdown",
   "metadata": {},
   "source": [
    "**Part A**: Write a function pmf_natural that implements $f(x)$. Your function should take in an integer $x$ and return $f(x) = P(X = x)$.  Use your function to argue that $f(x)$ is a well-defined probability mass function. "
   ]
  },
  {
   "cell_type": "code",
   "execution_count": 6,
   "metadata": {},
   "outputs": [],
   "source": [
    "def pmf_natural(x):\n",
    "    return np.log10((x+1)/x)"
   ]
  },
  {
   "cell_type": "code",
   "execution_count": 7,
   "metadata": {},
   "outputs": [
    {
     "name": "stdout",
     "output_type": "stream",
     "text": [
      "Probability of 1 is 0.3010\n",
      "Probability of 2 is 0.1761\n",
      "Probability of 3 is 0.1249\n",
      "Probability of 4 is 0.0969\n",
      "Probability of 5 is 0.0792\n",
      "Probability of 6 is 0.0669\n",
      "Probability of 7 is 0.0580\n",
      "Probability of 8 is 0.0512\n",
      "Probability of 9 is 0.0458\n",
      "Total probability is 1.0000\n"
     ]
    }
   ],
   "source": [
    "total = 0\n",
    "for i in range(1,10):\n",
    "    add = pmf_natural(i)\n",
    "    total += add\n",
    "    print(\"Probability of {} is {:.4f}\".format(i,add))\n",
    "print(\"Total probability is {:.4f}\".format(total))"
   ]
  },
  {
   "cell_type": "markdown",
   "metadata": {},
   "source": [
    "We can see that $f(x)$ is a well-defined PMF because when we add up each probability (or get the CDF of the function), we get 1, which is what we would expect. Additionally, no $P(X=x)$ is greater than 0 and is below 1 for each value, so the conditions of a valid PMF are met."
   ]
  },
  {
   "cell_type": "markdown",
   "metadata": {},
   "source": [
    "**Part B**: Use the function you wrote above to make stacked bar plots describing the pmf of the naturally occurring numbers as well as the discrete uniform distribution.  Make sure that the $x$- and $y$-limits on your plots are the same so that the two distributions are easy to compare. "
   ]
  },
  {
   "cell_type": "code",
   "execution_count": 39,
   "metadata": {},
   "outputs": [
    {
     "data": {
      "image/png": "[encoded data removed]",
      "text/plain": [
       "<matplotlib.figure.Figure at 0x1ef00739710>"
      ]
     },
     "metadata": {},
     "output_type": "display_data"
    },
    {
     "data": {
      "text/plain": [
       "Text(0,0.5,'Probability')"
      ]
     },
     "execution_count": 39,
     "metadata": {},
     "output_type": "execute_result"
    },
    {
     "data": {
      "image/png": "[encoded data removed]",
      "text/plain": [
       "<matplotlib.figure.Figure at 0x1ef00853fd0>"
      ]
     },
     "metadata": {},
     "output_type": "display_data"
    }
   ],
   "source": [
    "pdf = []\n",
    "unnatural = [1/9]*9\n",
    "for i in range(1,10):\n",
    "    pdf.append(pmf_natural(i))\n",
    "plt.bar([1,2,3,4,5,6,7,8,9], pdf)\n",
    "plt.xlabel(\"Number\")\n",
    "plt.ylabel(\"Probability\")\n",
    "plt.title(\"Natural Distribution\")\n",
    "plt.show()\n",
    "plt.bar([1,2,3,4,5,6,7,8,9],unnatural)\n",
    "plt.ylim([0, 0.31])\n",
    "plt.title(\"Unnatural (Uniform) Distribution\")\n",
    "plt.xlabel(\"Number\")\n",
    "plt.ylabel(\"Probability\")"
   ]
  },
  {
   "cell_type": "markdown",
   "metadata": {},
   "source": [
    "**Part C**: Write a function cdf_natural that implements the cumulative distribution function $F(y)$ for $X$ and use it to compute the probability that the leading digit in a number is at most 4 and at most 5. "
   ]
  },
  {
   "cell_type": "code",
   "execution_count": 41,
   "metadata": {
    "scrolled": true
   },
   "outputs": [
    {
     "name": "stdout",
     "output_type": "stream",
     "text": [
      "Probability that a digit is at most 4: 0.699\n",
      "Probability that a digit is at most 5: 0.778\n"
     ]
    }
   ],
   "source": [
    "def cdf_natural(y):\n",
    "    total = 0\n",
    "    for i in range(1,y+1):\n",
    "        total += pmf_natural(i)\n",
    "    return total\n",
    "print(\"Probability that a digit is at most 4: {:.3f}\".format(cdf_natural(4)))\n",
    "print(\"Probability that a digit is at most 5: {:.3f}\".format(cdf_natural(5)))"
   ]
  },
  {
   "cell_type": "markdown",
   "metadata": {},
   "source": [
    "**Part D**: The data in tax_data.txt contains the taxable income for individuals in 1978. Use Pandas and the information from **Parts A-D** to determine whether or not the dataset is likely fraudulent.  In addition to code and any graphical summaries, make sure to clearly justify your conclusion in words. "
   ]
  },
  {
   "cell_type": "code",
   "execution_count": 98,
   "metadata": {},
   "outputs": [
    {
     "data": {
      "text/plain": [
       "Text(0,0.5,'Occurence in Data')"
      ]
     },
     "execution_count": 98,
     "metadata": {},
     "output_type": "execute_result"
    },
    {
     "data": {
      "image/png": "[encoded data removed]",
      "text/plain": [
       "<matplotlib.figure.Figure at 0x1ef016a0ef0>"
      ]
     },
     "metadata": {},
     "output_type": "display_data"
    }
   ],
   "source": [
    "dfTax = pd.read_csv(\"tax_data.txt\", delim_whitespace=True)\n",
    "first_digit = []\n",
    "for i in dfTax[\"Tax Incomes\"]:\n",
    "    num = str(i)\n",
    "    digit = num[0]\n",
    "    first_digit.append(int(digit))\n",
    "dfTax[\"First Digit\"] = first_digit\n",
    "totals = []\n",
    "for i in range(1,10):\n",
    "    num = 0\n",
    "    for x in dfTax[\"First Digit\"]:\n",
    "        if x is i:\n",
    "            num += 1\n",
    "    totals.append(num)\n",
    "plt.bar([1,2,3,4,5,6,7,8,9], totals)\n",
    "plt.title(\"Tax Data Distribution\")\n",
    "plt.xlabel(\"Number\")\n",
    "plt.ylabel(\"Occurence in Data\")"
   ]
  },
  {
   "cell_type": "markdown",
   "metadata": {},
   "source": [
    "We can see from the plot that the dataset is most likely a natural distribution, because it closely matches the plot we generated above. As the numbers get bigger, the amount of occurrences decreases. If it were a uniform unnatural distribution of numbers, the values would be close to equal to each other. Therefore, we can conclude that the dataset is most likely non-fraudulent."
   ]
  },
  {
   "cell_type": "markdown",
   "metadata": {},
   "source": [
    "### [25 points] Problem 4\n",
    "***\n",
    "\n",
    "You are the team manager for the CU intramural Quidditch team, the Boulder Beaters, and you've just made it to the national championship series against the Stanford Snitching Snitches. The typical Quidditch championship is a best of 11 series, so the first team to win 6 matches is declared the winner.  Furthermore, based on a rigorous statistical analysis of regular season play, the probability that the Boulder Beaters win any one match against the Snitching Snitches is given by $p = 0.55$.  \n",
    "\n",
    "**Part A**: What is the probability that you win the 11-game series on the 8th match played? \n"
   ]
  },
  {
   "cell_type": "markdown",
   "metadata": {},
   "source": [
    "We know that we need to win 6 games, which means that there will also be 2 losses. However, we also know that the last win must be on the last game, so we need to see how to arrange the other 5 wins and 2 losses before the final win. Thus, we have:\n",
    "\n",
    "$$\n",
    "\\binom{7}{5} \\cdot (0.55)^{5} \\cdot (0.45)^{2} \\cdot (0.55)\n",
    "\\approx 0.1177\n",
    "$$\n",
    "\n",
    "So there is an 11.77% chance that the CU intramural Quidditch team wins on the 8th match."
   ]
  },
  {
   "cell_type": "markdown",
   "metadata": {},
   "source": [
    "**Part B**: What is the probability that you win the 11-game series in any valid number of matches? "
   ]
  },
  {
   "cell_type": "markdown",
   "metadata": {},
   "source": [
    "We know that the series must be at least 6 games long, but it can also be up to 11 games long. We calculate the probability of each match in a similar way as above, but we change how many losses there are for each series. (Wins remain the same, since 6 are required to win the series.) We can use a sum to find the probability of each amount of games played, and then add them up to get the desired probability that the CU Quidditch team wins. This is represented as:\n",
    "\n",
    "$$\n",
    "(0.55) \\cdot \\sum\\limits_{k = 5}^{10} {k \\choose 5} (0.55)^{5} \\cdot (0.45)^{k-5}\n",
    "$$\n",
    "We only need from 5 to 10 because we need to know the ordering of the first 5 wins among the other losses, but know the sixth win is the last turn, so we can simply multiply by 0.55 to get this value. The above sum yields the solution:\n",
    "\n",
    "$$\n",
    "\\approx 0.6331\n",
    "$$\n",
    "\n",
    "So the CU intramural Quidditch team has a 63.31% chance of winning the series."
   ]
  },
  {
   "cell_type": "markdown",
   "metadata": {},
   "source": [
    "**Part C**: The winner of the champsionship will take home \\$10,000 to use for equipment and victory parties in the following season. Because the stakes are so high, you've decided to hire a famous Quidditch consultant, Bludger Bob, to help you prepare for each match. With Bob's help your probability of winning any given match increases to $p = 0.7$.  Bludger Bob charges a fee of \\$100 per game, but as a testament to his confidence in his abilities, only charges you the \\$100 for games that you win and only if you win the series.  So, if you play a 11-game series and win you will take home \\$10,000 less \\$600 for Bludger Bob's fees, for a total payout of \\$9,400.  What is the expected payout for an 11-game series?   "
   ]
  },
  {
   "cell_type": "markdown",
   "metadata": {},
   "source": [
    "We first need to calculate the probability of them winning with Bob's help, which we do the same way as in Part B, but with the values 0.7 instead of 0.55, and 0.3 instead of 0.45. So we have:\n",
    "\n",
    "$$\n",
    "(0.7) \\cdot \\sum\\limits_{k = 5}^{10} {k \\choose 5} (0.7)^{5} \\cdot (0.3)^{k-5} \\\\\n",
    "\\approx 0.9218\n",
    "$$\n",
    "\n",
    "Now, to find the expected value, we use the formula $\\sum\\nolimits{x} p(x)$, where $x$ is the payout, and $p(x)$ is the probability of that payout. In this case, we either win $9,400$ or lose $0$. So we have:\n",
    "\n",
    "$$\n",
    "E[X] = 9400 \\cdot 0.9218 + 0 \\cdot 0.0782 \\\\\n",
    "\\approx $8,664.732\n",
    "$$\n",
    "\n",
    "So our expected payout for an 11-game series using Bob's services is $8,664.73."
   ]
  },
  {
   "cell_type": "markdown",
   "metadata": {},
   "source": [
    "**Part D**: This year the National Intramural Quidditch Association (NIQA) is implementing an experimental rule.  As the team with the best record in the regular season you will get to choose the length of the championship series.  Specifically, you can choose the series length to be anywhere from $N=3, 5, 7, \\ldots, 99$ games long.  Assuming that you plan to use Bludger Bob's services and considering the fact that you have a better than even chance of winning each game, explain the trade-offs between choosing a short series vs. a long series in terms of Expected Payout. \n"
   ]
  },
  {
   "cell_type": "markdown",
   "metadata": {},
   "source": [
    "For this situation, there will be an ideal amount of games so that the payout is high, but the probability of winning is also high. Given how good the probability of winning already is with 11 games, the optimal amount of games will most likely be less rather than more. Our odds of winning will go up slower and slower, while the price we have to pay to increase those odds become more and more at a linear rate. So even though we can make our chances of winning closer and closer to 100% by playing more games, the payout will become less and less as we have to pay Bob more and more."
   ]
  },
  {
   "cell_type": "markdown",
   "metadata": {},
   "source": [
    "**Part E**: Write a function optimal_series that takes in $p$, the probability that your team wins an individual game, then computes the Expected Payout for each series of length $N=3, 5, 7, \\ldots 99$ and returns the optimal series length.  In addition to returning the optimal series length, your function should also produce a plot of Expected Payout vs Series Length. You may write any additional helper functions that you like, but you should not change the API for the function optimal_series. "
   ]
  },
  {
   "cell_type": "code",
   "execution_count": 192,
   "metadata": {},
   "outputs": [
    {
     "name": "stdout",
     "output_type": "stream",
     "text": [
      "[3, 5, 7, 9, 11, 13, 15, 17, 19, 21, 23, 25, 27, 29, 31, 33, 35, 37, 39, 41, 43, 45, 47, 49, 51, 53, 55, 57, 59, 61, 63, 65, 67, 69, 71, 73, 75, 77, 79, 81, 83, 85, 87, 89, 91, 93, 95, 97, 99]\n"
     ]
    },
    {
     "data": {
      "text/plain": [
       "Text(0,0.5,'Expected Winnings')"
      ]
     },
     "execution_count": 192,
     "metadata": {},
     "output_type": "execute_result"
    },
    {
     "data": {
      "image/png": "[encoded data removed]",
      "text/plain": [
       "<matplotlib.figure.Figure at 0x1ef002fce48>"
      ]
     },
     "metadata": {},
     "output_type": "display_data"
    }
   ],
   "source": [
    "def prob_calc(prob, length, needed_wins):\n",
    "    total_prob = 0\n",
    "    #calculates the total probability of winning series of given length (need to know how many wins we need)\n",
    "    for i in range(needed_wins, length-1):\n",
    "        val = binom(i, needed_wins)\n",
    "        total_prob += val*(prob)**(needed_wins+1)*(1-prob)**(i-needed_wins)\n",
    "    return total_prob\n",
    "\n",
    "def optimal_series(p):\n",
    "    expectations = []\n",
    "    series_length = []\n",
    "    #makes sure we only go through even numbers, and calculate the expected value for each round and add to the list\n",
    "    for length in range(3,100,2):\n",
    "        needed_wins = int(length/2)\n",
    "        val = prob_calc(p,length,needed_wins)\n",
    "        expected = val * (10000-(100*(needed_wins+1)))\n",
    "        expectations.append(expected)\n",
    "        series_length.append(length)\n",
    "    #returns actual value of round, not just index of list\n",
    "    print(series_length)\n",
    "    return 2*(np.argmax(expectations))+1, series_length, expectations\n",
    "\n",
    "#can find the optimal amount of games given a series probability\n",
    "highest_value, length, exp = optimal_series(0.7)\n",
    "plt.bar(length, exp)\n",
    "plt.title(\"Expected Winnings By Series Length\")\n",
    "plt.xlabel(\"Series Length\")\n",
    "plt.ylabel(\"Expected Winnings\")"
   ]
  },
  {
   "cell_type": "markdown",
   "metadata": {},
   "source": [
    "We can see that the optimal series length is positively skewed, so after the optimal series length, our winnings decrease slightly compared to how fast they increased before. (This is with p=0.7, but the skew would change depending on the probability and how big or small it was.)"
   ]
  },
  {
   "cell_type": "markdown",
   "metadata": {},
   "source": [
    "### [25 points] Problem 5\n",
    "***\n",
    "\n",
    "The card game \"War\" is fun for small children. The basic rules are [here](https://www.bicyclecards.com/how-to-play/war/), but see the list below. Assume that the value of each card in the deck, in decreasing order, is A K Q J 10 9 8 7 6 5 4 3 2. For example, Q is of higher value than J. \n",
    "\n",
    "Create a simulation of the game War. Your simulation must:\n",
    "\n",
    "- initialize a single deck of 52 standard cards, shuffled.\n",
    "- deal half of those cards to each player.\n",
    "- simulate the game of War between two players until one player has all 52 cards, while recording the number of rounds that have passed.\n",
    "- for counting purposes, a round ends when the winner places cards on the bottom of their stack. \n",
    "- if a player runs out of cards mid-War, that player loses. \n",
    "- when cards are collected to be placed at the bottom of a deck, they are scraped from the table in a way that randomly shuffles them.  "
   ]
  },
  {
   "cell_type": "markdown",
   "metadata": {
    "collapsed": true
   },
   "source": [
    "**Part A**: For any fixed order of the cards, the game is completely non-random. This means that shuffling the deck randomly makes the duration of the game a random variable. Use your simulation to compute the expected value of the duration of a game of war. "
   ]
  },
  {
   "cell_type": "code",
   "execution_count": 193,
   "metadata": {},
   "outputs": [],
   "source": [
    "startDeck = []\n",
    "warStack = []\n",
    "war = False\n",
    "count = 0\n",
    "for i in range(2,15):\n",
    "    startDeck.append(i)\n",
    "    startDeck.append(i)\n",
    "    startDeck.append(i)\n",
    "    startDeck.append(i)\n",
    "\n",
    "def game(p1, p2):\n",
    "    count = 0\n",
    "    add = []\n",
    "    while (len(p1)>1) and (len(p2)>1):\n",
    "        #always add 1 - if we are in war, subtract this value again so that when we come back, if it is no longer\n",
    "        #war, then we have the correct count\n",
    "        count += 1\n",
    "        #if p1 has a larger number than p2, shuffle the two cards and add them to p1s deck\n",
    "        if p1[0]>p2[0]:\n",
    "            add.extend([p1[0], p2[0]])\n",
    "            np.random.shuffle(add)\n",
    "            p1.remove(p1[0])\n",
    "            p2.remove(p2[0])\n",
    "            p1.extend(add)\n",
    "            add = []\n",
    "        #same logic as above, but add to p2 instead\n",
    "        elif p1[0]<p2[0]:\n",
    "            add.extend([p1[0], p2[0]])\n",
    "            np.random.shuffle(add)\n",
    "            p1.remove(p1[0])\n",
    "            p2.remove(p2[0])\n",
    "            p2.extend(add)\n",
    "            add = []\n",
    "        #if cards are the same, add cards to add pile, add another card from each hand to the pile, and continue to check\n",
    "        #in next round through while loop\n",
    "        else:\n",
    "            add += [p1[0],p2[0]]\n",
    "            p1.pop(0)\n",
    "            p2.pop(0)\n",
    "            add += [p1[0],p2[0]]\n",
    "            np.random.shuffle(add)\n",
    "            p1.pop(0)\n",
    "            p2.pop(0)\n",
    "            count -= 1\n",
    "    return count"
   ]
  },
  {
   "cell_type": "code",
   "execution_count": 194,
   "metadata": {
    "scrolled": true
   },
   "outputs": [
    {
     "name": "stdout",
     "output_type": "stream",
     "text": [
      "The expected amount of rounds for a game of war is: 407.61\n"
     ]
    }
   ],
   "source": [
    "counts = []\n",
    "n=1000\n",
    "#reshuffle the deck each time, and find the average amount of rounds per game\n",
    "for i in range(n):\n",
    "    np.random.shuffle(startDeck)\n",
    "    deck1 = startDeck[:int(len(startDeck)/2)]\n",
    "    deck2 = startDeck[int(len(startDeck)/2):]\n",
    "    cnt = game(deck1, deck2)\n",
    "    counts.append(cnt)\n",
    "print(\"The expected amount of rounds for a game of war is: {:.2f}\".format(sum(counts)/n))"
   ]
  },
  {
   "cell_type": "markdown",
   "metadata": {
    "collapsed": true
   },
   "source": [
    "**Part B**: What happens to the expected duration if the K, Q, and J cards are all now assumed to have _equal_ rank?"
   ]
  },
  {
   "cell_type": "code",
   "execution_count": 195,
   "metadata": {},
   "outputs": [
    {
     "name": "stdout",
     "output_type": "stream",
     "text": [
      "The expected amount of rounds for a game of war is: 404.91\n"
     ]
    }
   ],
   "source": [
    "#change all values of Qs and Ks to match Js\n",
    "for i in startDeck:\n",
    "    if (startDeck[i] >= 12) and (startDeck[i] <= 13):\n",
    "        startDeck[i] = 11\n",
    "equal_counts = []\n",
    "#go through many rounds and average the amount of rounds per game\n",
    "for i in range(n):\n",
    "    np.random.shuffle(startDeck)\n",
    "    deck1 = startDeck[:int(len(startDeck)/2)]\n",
    "    deck2 = startDeck[int(len(startDeck)/2):]\n",
    "    cnt = game(deck1, deck2)\n",
    "    equal_counts.append(cnt)\n",
    "print(\"The expected amount of rounds for a game of war is: {:.2f}\".format(sum(equal_counts)/n))"
   ]
  },
  {
   "cell_type": "markdown",
   "metadata": {},
   "source": [
    "In my simulation, despite changing the decks to have all of the same values for K, Q, and Js, it did not drastically change the expected amount of rounds per game. I either did not do the simulation correctly, or, when I think about it, it might be that making cards equal makes some games shorter, and other ones longer, which would still average to a similar value. This could be because there is more \"war\", and since \"war\" only counts as 1 round, rather than each time war continues counting another round, there are less actual rounds. To be honest, I think my logic is there, so that is my best estimate for why the values are still so similar."
   ]
  },
  {
   "cell_type": "markdown",
   "metadata": {},
   "source": [
    "**Part C**: Suppose that before the game starts, Player 1 gives all of their 2s and 3s to Player 2, and Player 2 gives all their As and Ks to Player 1. Does this tend to make the game longer or shorter?"
   ]
  },
  {
   "cell_type": "markdown",
   "metadata": {},
   "source": [
    "This would tend to make the game shorter because one player has more high cards (as well as less low cards), and there are less opportunities to go to war, which means you lose less high cards as well. So the player with the high cards would have more opportunities to win cards, and therefore the game would go faster because they consistently have more of these opportunities."
   ]
  },
  {
   "cell_type": "code",
   "execution_count": null,
   "metadata": {},
   "outputs": [],
   "source": []
  }
 ],
 "metadata": {
  "kernelspec": {
   "display_name": "Python 3",
   "language": "python",
   "name": "python3"
  },
  "language_info": {
   "codemirror_mode": {
    "name": "ipython",
    "version": 3
   },
   "file_extension": ".py",
   "mimetype": "text/x-python",
   "name": "python",
   "nbconvert_exporter": "python",
   "pygments_lexer": "ipython3",
   "version": "3.6.4"
  }
 },
 "nbformat": 4,
 "nbformat_minor": 2
}
